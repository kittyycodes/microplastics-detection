{
 "cells": [
  {
   "cell_type": "code",
   "execution_count": 19,
   "metadata": {},
   "outputs": [],
   "source": [
    "import cv2\n",
    "import numpy as np\n",
    "import os\n",
    "from glob import glob"
   ]
  },
  {
   "cell_type": "markdown",
   "metadata": {},
   "source": [
    "Preprocess Image Function"
   ]
  },
  {
   "cell_type": "code",
   "execution_count": 20,
   "metadata": {},
   "outputs": [],
   "source": [
    "def preprocess_image(image, size=(224, 224)):\n",
    "\n",
    "    image_resized = cv2.resize(image, size, interpolation=cv2.INTER_NEAREST)\n",
    "\n",
    "    lab = cv2.cvtColor(image_resized, cv2.COLOR_BGR2LAB)\n",
    "    l, a, b = cv2.split(lab)\n",
    "\n",
    "    clahe = cv2.createCLAHE(clipLimit=2.0, tileGridSize=(8, 8))\n",
    "    l_clahe = clahe.apply(l)\n",
    "    lab_clahe = cv2.merge((l_clahe, a, b))\n",
    "    image_clahe = cv2.cvtColor(lab_clahe, cv2.COLOR_LAB2BGR)\n",
    "    image_filtered = cv2.bilateralFilter(image_clahe, d=9, sigmaColor=75, sigmaSpace=75)\n",
    "    \n",
    "    return image_filtered"
   ]
  },
  {
   "cell_type": "code",
   "execution_count": 21,
   "metadata": {},
   "outputs": [],
   "source": [
    "def augment_image(image):\n",
    "    augmented_images = []\n",
    "    augmented_images.append(cv2.flip(image, 1))  \n",
    "    augmented_images.append(cv2.flip(image, 0))  \n",
    "    for angle in range(0, 360, 45):  \n",
    "        M = cv2.getRotationMatrix2D((image.shape[1]//2, image.shape[0]//2), angle, 1)\n",
    "        rotated = cv2.warpAffine(image, M, (image.shape[1], image.shape[0]))\n",
    "        augmented_images.append(rotated)\n",
    "    \n",
    "    return augmented_images"
   ]
  },
  {
   "cell_type": "code",
   "execution_count": 22,
   "metadata": {},
   "outputs": [],
   "source": [
    "\n",
    "def preprocess_and_augment_dataset(image_folder, output_folder):\n",
    "    \n",
    "    image_paths = glob(os.path.join(image_folder, '*.jpg'))  \n",
    "    total_augmented_images = 0\n",
    "    \n",
    "    for i, image_path in enumerate(image_paths):\n",
    "       \n",
    "        image = cv2.imread(image_path)\n",
    "\n",
    "        preprocessed_image = preprocess_image(image)\n",
    "        base_filename = os.path.splitext(os.path.basename(image_path))[0]\n",
    "        output_path = os.path.join(output_folder, f\"{base_filename}_preprocessed.jpg\")\n",
    "        cv2.imwrite(output_path, preprocessed_image)\n",
    "        augmented_images = augment_image(preprocessed_image)\n",
    "    \n",
    "        for j, aug_image in enumerate(augmented_images):\n",
    "            aug_output_path = os.path.join(output_folder, f\"{base_filename}_aug_{j}.jpg\")\n",
    "            cv2.imwrite(aug_output_path, aug_image)\n",
    "            total_augmented_images += 1\n",
    "        \n",
    "        print(f\"Processed {i+1}/{len(image_paths)}: {image_path}\")\n",
    "\n",
    "    print(f\"Total augmented images: {total_augmented_images}\")\n"
   ]
  },
  {
   "cell_type": "code",
   "execution_count": 23,
   "metadata": {},
   "outputs": [
    {
     "name": "stdout",
     "output_type": "stream",
     "text": [
      "Processed 1/56: /Users/bipashaamohanty/Documents/projects/dataset_microplastics/micro_plastic/LEPD_with_dust/214.jpg\n",
      "Processed 2/56: /Users/bipashaamohanty/Documents/projects/dataset_microplastics/micro_plastic/LEPD_with_dust/215.jpg\n",
      "Processed 3/56: /Users/bipashaamohanty/Documents/projects/dataset_microplastics/micro_plastic/LEPD_with_dust/212.jpg\n",
      "Processed 4/56: /Users/bipashaamohanty/Documents/projects/dataset_microplastics/micro_plastic/LEPD_with_dust/213.jpg\n",
      "Processed 5/56: /Users/bipashaamohanty/Documents/projects/dataset_microplastics/micro_plastic/LEPD_with_dust/211.jpg\n",
      "Processed 6/56: /Users/bipashaamohanty/Documents/projects/dataset_microplastics/micro_plastic/LEPD_with_dust/210.jpg\n",
      "Processed 7/56: /Users/bipashaamohanty/Documents/projects/dataset_microplastics/micro_plastic/LEPD_with_dust/14.jpg\n",
      "Processed 8/56: /Users/bipashaamohanty/Documents/projects/dataset_microplastics/micro_plastic/LEPD_with_dust/28.jpg\n",
      "Processed 9/56: /Users/bipashaamohanty/Documents/projects/dataset_microplastics/micro_plastic/LEPD_with_dust/129.jpg\n",
      "Processed 10/56: /Users/bipashaamohanty/Documents/projects/dataset_microplastics/micro_plastic/LEPD_with_dust/115.jpg\n",
      "Processed 11/56: /Users/bipashaamohanty/Documents/projects/dataset_microplastics/micro_plastic/LEPD_with_dust/114.jpg\n",
      "Processed 12/56: /Users/bipashaamohanty/Documents/projects/dataset_microplastics/micro_plastic/LEPD_with_dust/128.jpg\n",
      "Processed 13/56: /Users/bipashaamohanty/Documents/projects/dataset_microplastics/micro_plastic/LEPD_with_dust/29.jpg\n",
      "Processed 14/56: /Users/bipashaamohanty/Documents/projects/dataset_microplastics/micro_plastic/LEPD_with_dust/15.jpg\n",
      "Processed 15/56: /Users/bipashaamohanty/Documents/projects/dataset_microplastics/micro_plastic/LEPD_with_dust/17.jpg\n",
      "Processed 16/56: /Users/bipashaamohanty/Documents/projects/dataset_microplastics/micro_plastic/LEPD_with_dust/116.jpg\n",
      "Processed 17/56: /Users/bipashaamohanty/Documents/projects/dataset_microplastics/micro_plastic/LEPD_with_dust/117.jpg\n",
      "Processed 18/56: /Users/bipashaamohanty/Documents/projects/dataset_microplastics/micro_plastic/LEPD_with_dust/16.jpg\n",
      "Processed 19/56: /Users/bipashaamohanty/Documents/projects/dataset_microplastics/micro_plastic/LEPD_with_dust/12.jpg\n",
      "Processed 20/56: /Users/bipashaamohanty/Documents/projects/dataset_microplastics/micro_plastic/LEPD_with_dust/113.jpg\n",
      "Processed 21/56: /Users/bipashaamohanty/Documents/projects/dataset_microplastics/micro_plastic/LEPD_with_dust/112.jpg\n",
      "Processed 22/56: /Users/bipashaamohanty/Documents/projects/dataset_microplastics/micro_plastic/LEPD_with_dust/13.jpg\n",
      "Processed 23/56: /Users/bipashaamohanty/Documents/projects/dataset_microplastics/micro_plastic/LEPD_with_dust/11.jpg\n",
      "Processed 24/56: /Users/bipashaamohanty/Documents/projects/dataset_microplastics/micro_plastic/LEPD_with_dust/110.jpg\n",
      "Processed 25/56: /Users/bipashaamohanty/Documents/projects/dataset_microplastics/micro_plastic/LEPD_with_dust/138.jpg\n",
      "Processed 26/56: /Users/bipashaamohanty/Documents/projects/dataset_microplastics/micro_plastic/LEPD_with_dust/139.jpg\n",
      "Processed 27/56: /Users/bipashaamohanty/Documents/projects/dataset_microplastics/micro_plastic/LEPD_with_dust/111.jpg\n",
      "Processed 28/56: /Users/bipashaamohanty/Documents/projects/dataset_microplastics/micro_plastic/LEPD_with_dust/21.jpg\n",
      "Processed 29/56: /Users/bipashaamohanty/Documents/projects/dataset_microplastics/micro_plastic/LEPD_with_dust/120.jpg\n",
      "Processed 30/56: /Users/bipashaamohanty/Documents/projects/dataset_microplastics/micro_plastic/LEPD_with_dust/134.jpg\n",
      "Processed 31/56: /Users/bipashaamohanty/Documents/projects/dataset_microplastics/micro_plastic/LEPD_with_dust/135.jpg\n",
      "Processed 32/56: /Users/bipashaamohanty/Documents/projects/dataset_microplastics/micro_plastic/LEPD_with_dust/121.jpg\n",
      "Processed 33/56: /Users/bipashaamohanty/Documents/projects/dataset_microplastics/micro_plastic/LEPD_with_dust/22.jpg\n",
      "Processed 34/56: /Users/bipashaamohanty/Documents/projects/dataset_microplastics/micro_plastic/LEPD_with_dust/137.jpg\n",
      "Processed 35/56: /Users/bipashaamohanty/Documents/projects/dataset_microplastics/micro_plastic/LEPD_with_dust/123.jpg\n",
      "Processed 36/56: /Users/bipashaamohanty/Documents/projects/dataset_microplastics/micro_plastic/LEPD_with_dust/122.jpg\n",
      "Processed 37/56: /Users/bipashaamohanty/Documents/projects/dataset_microplastics/micro_plastic/LEPD_with_dust/136.jpg\n",
      "Processed 38/56: /Users/bipashaamohanty/Documents/projects/dataset_microplastics/micro_plastic/LEPD_with_dust/23.jpg\n",
      "Processed 39/56: /Users/bipashaamohanty/Documents/projects/dataset_microplastics/micro_plastic/LEPD_with_dust/27.jpg\n",
      "Processed 40/56: /Users/bipashaamohanty/Documents/projects/dataset_microplastics/micro_plastic/LEPD_with_dust/132.jpg\n",
      "Processed 41/56: /Users/bipashaamohanty/Documents/projects/dataset_microplastics/micro_plastic/LEPD_with_dust/126.jpg\n",
      "Processed 42/56: /Users/bipashaamohanty/Documents/projects/dataset_microplastics/micro_plastic/LEPD_with_dust/127.jpg\n",
      "Processed 43/56: /Users/bipashaamohanty/Documents/projects/dataset_microplastics/micro_plastic/LEPD_with_dust/133.jpg\n",
      "Processed 44/56: /Users/bipashaamohanty/Documents/projects/dataset_microplastics/micro_plastic/LEPD_with_dust/26.jpg\n",
      "Processed 45/56: /Users/bipashaamohanty/Documents/projects/dataset_microplastics/micro_plastic/LEPD_with_dust/18.jpg\n",
      "Processed 46/56: /Users/bipashaamohanty/Documents/projects/dataset_microplastics/micro_plastic/LEPD_with_dust/24.jpg\n",
      "Processed 47/56: /Users/bipashaamohanty/Documents/projects/dataset_microplastics/micro_plastic/LEPD_with_dust/125.jpg\n",
      "Processed 48/56: /Users/bipashaamohanty/Documents/projects/dataset_microplastics/micro_plastic/LEPD_with_dust/131.jpg\n",
      "Processed 49/56: /Users/bipashaamohanty/Documents/projects/dataset_microplastics/micro_plastic/LEPD_with_dust/119.jpg\n",
      "Processed 50/56: /Users/bipashaamohanty/Documents/projects/dataset_microplastics/micro_plastic/LEPD_with_dust/118.jpg\n",
      "Processed 51/56: /Users/bipashaamohanty/Documents/projects/dataset_microplastics/micro_plastic/LEPD_with_dust/130.jpg\n",
      "Processed 52/56: /Users/bipashaamohanty/Documents/projects/dataset_microplastics/micro_plastic/LEPD_with_dust/124.jpg\n",
      "Processed 53/56: /Users/bipashaamohanty/Documents/projects/dataset_microplastics/micro_plastic/LEPD_with_dust/25.jpg\n",
      "Processed 54/56: /Users/bipashaamohanty/Documents/projects/dataset_microplastics/micro_plastic/LEPD_with_dust/19.jpg\n",
      "Processed 55/56: /Users/bipashaamohanty/Documents/projects/dataset_microplastics/micro_plastic/LEPD_with_dust/140.jpg\n",
      "Processed 56/56: /Users/bipashaamohanty/Documents/projects/dataset_microplastics/micro_plastic/LEPD_with_dust/141.jpg\n",
      "Total augmented images: 560\n"
     ]
    }
   ],
   "source": [
    "\n",
    "LEPD = '/Users/bipashaamohanty/Documents/projects/dataset_microplastics/micro_plastic/LEPD_with_dust'  \n",
    "LEPD_out = '/Users/bipashaamohanty/Documents/projects/microplastics-detection/LEPD_with_dust'\n",
    "\n",
    "preprocess_and_augment_dataset(LEPD, LEPD_out)"
   ]
  },
  {
   "cell_type": "code",
   "execution_count": null,
   "metadata": {},
   "outputs": [],
   "source": [
    "mixedd = '/Users/bipashaamohanty/Documents/projects/dataset_microplastics/micro_plastic/mixed'  \n",
    "mixedd_out = '/Users/bipashaamohanty/Documents/projects/microplastics-detection/mixed'\n",
    "\n",
    "preprocess_and_augment_dataset(mixedd, mixedd_out)"
   ]
  },
  {
   "cell_type": "code",
   "execution_count": null,
   "metadata": {},
   "outputs": [],
   "source": [
    "nonee = '/Users/bipashaamohanty/Documents/projects/dataset_microplastics/micro_plastic/none'  \n",
    "nonee_out = '/Users/bipashaamohanty/Documents/projects/microplastics-detection/LEPD_with_dust'\n",
    "\n",
    "preprocess_and_augment_dataset(nonee, nonee_out)"
   ]
  },
  {
   "cell_type": "code",
   "execution_count": null,
   "metadata": {},
   "outputs": [],
   "source": [
    "pe = '/Users/bipashaamohanty/Documents/projects/dataset_microplastics/micro_plastic/none'  \n",
    "pe_out = '/Users/bipashaamohanty/Documents/projects/microplastics-detection/none'\n",
    "\n",
    "preprocess_and_augment_dataset(pe, pe_out)"
   ]
  },
  {
   "cell_type": "code",
   "execution_count": null,
   "metadata": {},
   "outputs": [],
   "source": [
    "pedust = '/Users/bipashaamohanty/Documents/projects/dataset_microplastics/micro_plastic/PE_with_dust'  \n",
    "pedust_out = '/Users/bipashaamohanty/Documents/projects/microplastics-detection/PE_with_dust'\n",
    "\n",
    "preprocess_and_augment_dataset(pedust, pedust_out)"
   ]
  },
  {
   "cell_type": "code",
   "execution_count": null,
   "metadata": {},
   "outputs": [],
   "source": [
    "pha = '/Users/bipashaamohanty/Documents/projects/dataset_microplastics/micro_plastic/PHA'  \n",
    "pha_out = '/Users/bipashaamohanty/Documents/projects/microplastics-detection/PHA_out'\n",
    "\n",
    "preprocess_and_augment_dataset(pha, pha_out)"
   ]
  },
  {
   "cell_type": "code",
   "execution_count": null,
   "metadata": {},
   "outputs": [],
   "source": [
    "phadust = '/Users/bipashaamohanty/Documents/projects/dataset_microplastics/micro_plastic/PHA_with_dust'  \n",
    "phadust_out = '/Users/bipashaamohanty/Documents/projects/microplastics-detection/pha_with_dust'\n",
    "\n",
    "preprocess_and_augment_dataset(phadust, phadust_out)"
   ]
  },
  {
   "cell_type": "code",
   "execution_count": null,
   "metadata": {},
   "outputs": [],
   "source": [
    "ps = '/Users/bipashaamohanty/Documents/projects/dataset_microplastics/micro_plastic/PS'  \n",
    "ps_out = '/Users/bipashaamohanty/Documents/projects/microplastics-detection/ps'\n",
    "\n",
    "preprocess_and_augment_dataset(ps, ps_out)"
   ]
  },
  {
   "cell_type": "code",
   "execution_count": null,
   "metadata": {},
   "outputs": [],
   "source": [
    "psdust = '/Users/bipashaamohanty/Documents/projects/dataset_microplastics/micro_plastic/PS_with_dust'  \n",
    "psdust_out = '/Users/bipashaamohanty/Documents/projects/microplastics-detection/ps_with_dust'\n",
    "\n",
    "preprocess_and_augment_dataset(psdust, psdust_out)"
   ]
  }
 ],
 "metadata": {
  "kernelspec": {
   "display_name": "environment",
   "language": "python",
   "name": "environment"
  },
  "language_info": {
   "codemirror_mode": {
    "name": "ipython",
    "version": 3
   },
   "file_extension": ".py",
   "mimetype": "text/x-python",
   "name": "python",
   "nbconvert_exporter": "python",
   "pygments_lexer": "ipython3",
   "version": "3.9.6"
  }
 },
 "nbformat": 4,
 "nbformat_minor": 2
}
